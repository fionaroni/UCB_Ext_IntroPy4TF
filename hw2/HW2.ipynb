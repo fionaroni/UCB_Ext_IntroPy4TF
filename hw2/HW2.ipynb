{
 "cells": [
  {
   "cell_type": "code",
   "execution_count": 1,
   "metadata": {},
   "outputs": [
    {
     "name": "stdout",
     "output_type": "stream",
     "text": [
      "My name is Zhicheng (Jason) Xue\n"
     ]
    }
   ],
   "source": [
    "print('My name is Zhicheng (Jason) Xue')"
   ]
  },
  {
   "cell_type": "code",
   "execution_count": 2,
   "metadata": {},
   "outputs": [],
   "source": [
    "import tensorflow as tf\n",
    "import numpy as np\n",
    "import matplotlib.pyplot as plt\n",
    "%matplotlib inline\n",
    "import random\n",
    "random.seed(2018)"
   ]
  },
  {
   "cell_type": "markdown",
   "metadata": {},
   "source": [
    "### 1.  Placeholder for an input array with dtype float32 and shape None\n",
    "### 2.  Scopes for the input, middle section and final node f"
   ]
  },
  {
   "cell_type": "code",
   "execution_count": 3,
   "metadata": {},
   "outputs": [],
   "source": [
    "graph = tf.Graph()"
   ]
  },
  {
   "cell_type": "code",
   "execution_count": 4,
   "metadata": {},
   "outputs": [],
   "source": [
    "with graph.as_default():\n",
    "    \n",
    "    #Scope for the input section \n",
    "    with tf.name_scope(name='Input_placeholder'):\n",
    "        #1.  Placeholder for an input array with dtype float32 and shape None\n",
    "        a = tf.placeholder(shape=None, dtype=tf.float32, name='input_a')\n",
    "        \n",
    "    #Scope for the middle section \n",
    "    with tf.name_scope(name='Middle_section'):\n",
    "        \n",
    "        b = tf.reduce_prod(input_tensor=a, name='product_b')\n",
    "        c = tf.reduce_mean(input_tensor=a, name='mean_c')\n",
    "        d = tf.reduce_sum(input_tensor=a, name='sum_d')\n",
    "        e = tf.add(b,c, name='add_e')\n",
    "        \n",
    "    #Scope for the final node   \n",
    "    with tf.name_scope(name='Final_node'):\n",
    "        \n",
    "        f = tf.multiply(x=e,y=d,name='mul_f')"
   ]
  },
  {
   "cell_type": "markdown",
   "metadata": {},
   "source": [
    "### 3.  Feed the placeholder with an array A consisting of 100 normally distributed random numbers with Mean = 1 and Standard devia=on = 2"
   ]
  },
  {
   "cell_type": "code",
   "execution_count": 5,
   "metadata": {},
   "outputs": [],
   "source": [
    "input_array=np.random.normal(1,2,100)"
   ]
  },
  {
   "cell_type": "code",
   "execution_count": 6,
   "metadata": {},
   "outputs": [
    {
     "name": "stdout",
     "output_type": "stream",
     "text": [
      "[ 2.64081826e+00  2.09959774e+00  1.78568866e+00  1.81446886e-01\n",
      "  1.25909470e+00  2.20953826e+00  2.84538954e+00  2.92445779e-01\n",
      " -1.50297314e+00  2.52719099e-01 -1.87094977e+00  1.50930579e+00\n",
      "  1.67477569e+00  1.22236573e+00 -6.35357426e-01  6.01078809e-01\n",
      "  1.04401462e+00  5.71105166e+00 -1.13340353e+00  2.30732658e+00\n",
      "  1.67206217e+00 -1.19361089e+00 -3.33492888e+00  1.07023214e+00\n",
      "  1.02199008e+00  4.24736462e-01  3.23041263e-01  2.69442785e+00\n",
      "  1.06395863e+00  5.38191388e-01  1.65455862e+00  8.76624910e-01\n",
      " -1.91954395e+00 -8.17410371e-01  2.83540997e+00  2.57889639e+00\n",
      "  4.91787119e-01  1.99209500e+00 -2.73035781e+00  2.20100457e-02\n",
      "  9.42828522e-01 -2.68007054e-01 -2.72554956e-01  3.79550257e+00\n",
      " -3.71689966e-01 -1.08120148e+00 -4.76418573e-01  1.32657946e+00\n",
      "  3.12127799e+00 -1.93537743e+00  6.91145003e-01  9.34454082e-01\n",
      "  2.42768051e+00  6.38498516e-01  2.24945368e+00 -7.21070224e-01\n",
      " -1.07748561e+00  6.67292521e+00  4.88211595e+00 -4.73575787e-01\n",
      "  6.38561136e-03 -9.83788914e-01  5.94008830e-01  5.65961263e-01\n",
      "  3.20664697e-01  2.06488493e-01 -1.49825475e-01  1.66930468e+00\n",
      "  7.49339728e-02  1.17331215e+00  2.52968115e+00 -9.68058325e-01\n",
      "  4.14085320e+00  1.49748745e+00  4.20762582e+00  9.65172688e-01\n",
      "  2.12061140e+00 -1.22348632e+00 -2.19189949e+00  3.78619353e-02\n",
      " -1.39538348e+00  7.06453592e-01  4.55663843e+00  1.66872558e+00\n",
      "  6.43488464e-01 -3.89631670e-01  9.61617331e-01  1.41337793e+00\n",
      "  1.07363243e+00 -2.11845787e+00  1.75285031e+00  5.56819130e-01\n",
      "  3.99060424e+00  1.16144122e-01  3.69514911e+00  5.45340317e-01\n",
      "  4.48589501e+00  2.44918209e+00 -7.06304931e-01 -1.17682097e+00]\n"
     ]
    }
   ],
   "source": [
    "print(input_array)"
   ]
  },
  {
   "cell_type": "code",
   "execution_count": 7,
   "metadata": {},
   "outputs": [],
   "source": [
    "replace_dict={a:input_array}"
   ]
  },
  {
   "cell_type": "code",
   "execution_count": 8,
   "metadata": {},
   "outputs": [],
   "source": [
    "sess=tf.Session(graph=graph)"
   ]
  },
  {
   "cell_type": "code",
   "execution_count": 9,
   "metadata": {},
   "outputs": [
    {
     "data": {
      "text/plain": [
       "array([ 2.6408184e+00,  2.0995977e+00,  1.7856886e+00,  1.8144688e-01,\n",
       "        1.2590947e+00,  2.2095382e+00,  2.8453896e+00,  2.9244578e-01,\n",
       "       -1.5029731e+00,  2.5271910e-01, -1.8709497e+00,  1.5093058e+00,\n",
       "        1.6747757e+00,  1.2223657e+00, -6.3535744e-01,  6.0107881e-01,\n",
       "        1.0440146e+00,  5.7110515e+00, -1.1334035e+00,  2.3073266e+00,\n",
       "        1.6720622e+00, -1.1936109e+00, -3.3349290e+00,  1.0702322e+00,\n",
       "        1.0219901e+00,  4.2473647e-01,  3.2304126e-01,  2.6944280e+00,\n",
       "        1.0639586e+00,  5.3819138e-01,  1.6545587e+00,  8.7662488e-01,\n",
       "       -1.9195440e+00, -8.1741035e-01,  2.8354099e+00,  2.5788963e+00,\n",
       "        4.9178711e-01,  1.9920950e+00, -2.7303579e+00,  2.2010045e-02,\n",
       "        9.4282854e-01, -2.6800704e-01, -2.7255496e-01,  3.7955027e+00,\n",
       "       -3.7168998e-01, -1.0812014e+00, -4.7641858e-01,  1.3265795e+00,\n",
       "        3.1212780e+00, -1.9353775e+00,  6.9114500e-01,  9.3445408e-01,\n",
       "        2.4276805e+00,  6.3849854e-01,  2.2494538e+00, -7.2107023e-01,\n",
       "       -1.0774856e+00,  6.6729250e+00,  4.8821158e+00, -4.7357580e-01,\n",
       "        6.3856114e-03, -9.8378891e-01,  5.9400880e-01,  5.6596124e-01,\n",
       "        3.2066470e-01,  2.0648849e-01, -1.4982547e-01,  1.6693047e+00,\n",
       "        7.4933976e-02,  1.1733122e+00,  2.5296812e+00, -9.6805835e-01,\n",
       "        4.1408534e+00,  1.4974874e+00,  4.2076259e+00,  9.6517271e-01,\n",
       "        2.1206114e+00, -1.2234863e+00, -2.1918995e+00,  3.7861936e-02,\n",
       "       -1.3953835e+00,  7.0645362e-01,  4.5566382e+00,  1.6687256e+00,\n",
       "        6.4348847e-01, -3.8963166e-01,  9.6161735e-01,  1.4133779e+00,\n",
       "        1.0736325e+00, -2.1184578e+00,  1.7528503e+00,  5.5681914e-01,\n",
       "        3.9906042e+00,  1.1614412e-01,  3.6951492e+00,  5.4534030e-01,\n",
       "        4.4858952e+00,  2.4491820e+00, -7.0630491e-01, -1.1768210e+00],\n",
       "      dtype=float32)"
      ]
     },
     "execution_count": 9,
     "metadata": {},
     "output_type": "execute_result"
    }
   ],
   "source": [
    "sess.run(a,feed_dict=replace_dict)"
   ]
  },
  {
   "cell_type": "code",
   "execution_count": 10,
   "metadata": {},
   "outputs": [
    {
     "data": {
      "text/plain": [
       "1.7552426"
      ]
     },
     "execution_count": 10,
     "metadata": {},
     "output_type": "execute_result"
    }
   ],
   "source": [
    "sess.run(b,feed_dict=replace_dict)"
   ]
  },
  {
   "cell_type": "code",
   "execution_count": 11,
   "metadata": {},
   "outputs": [
    {
     "data": {
      "text/plain": [
       "0.90185827"
      ]
     },
     "execution_count": 11,
     "metadata": {},
     "output_type": "execute_result"
    }
   ],
   "source": [
    "sess.run(c,feed_dict=replace_dict)"
   ]
  },
  {
   "cell_type": "code",
   "execution_count": 12,
   "metadata": {},
   "outputs": [
    {
     "data": {
      "text/plain": [
       "90.18583"
      ]
     },
     "execution_count": 12,
     "metadata": {},
     "output_type": "execute_result"
    }
   ],
   "source": [
    "sess.run(d,feed_dict=replace_dict)"
   ]
  },
  {
   "cell_type": "code",
   "execution_count": 13,
   "metadata": {},
   "outputs": [
    {
     "data": {
      "text/plain": [
       "2.657101"
      ]
     },
     "execution_count": 13,
     "metadata": {},
     "output_type": "execute_result"
    }
   ],
   "source": [
    "sess.run(e,feed_dict=replace_dict)"
   ]
  },
  {
   "cell_type": "code",
   "execution_count": 14,
   "metadata": {},
   "outputs": [
    {
     "data": {
      "text/plain": [
       "239.63284"
      ]
     },
     "execution_count": 14,
     "metadata": {},
     "output_type": "execute_result"
    }
   ],
   "source": [
    "sess.run(f,feed_dict=replace_dict)"
   ]
  },
  {
   "cell_type": "markdown",
   "metadata": {},
   "source": [
    "### 4.  Save your graph and show it in TensorBoard"
   ]
  },
  {
   "cell_type": "code",
   "execution_count": 16,
   "metadata": {},
   "outputs": [],
   "source": [
    "writer=tf.summary.FileWriter('./hw2',graph=graph)"
   ]
  },
  {
   "cell_type": "markdown",
   "metadata": {},
   "source": [
    "![TensorBoard](HW2_TensorBoard.png)"
   ]
  },
  {
   "cell_type": "code",
   "execution_count": 17,
   "metadata": {},
   "outputs": [],
   "source": [
    "writer.close()"
   ]
  },
  {
   "cell_type": "code",
   "execution_count": 18,
   "metadata": {},
   "outputs": [],
   "source": [
    "sess.close()"
   ]
  },
  {
   "cell_type": "markdown",
   "metadata": {},
   "source": [
    "### 5.  Plot you input array on a separate figure"
   ]
  },
  {
   "cell_type": "code",
   "execution_count": 19,
   "metadata": {},
   "outputs": [
    {
     "data": {
      "image/png": "[encoded data removed]",
      "text/plain": [
       "<Figure size 432x288 with 1 Axes>"
      ]
     },
     "metadata": {},
     "output_type": "display_data"
    }
   ],
   "source": [
    "# histogram of the input array\n",
    "n, bins, patches = plt.hist(input_array, 5, density=1, facecolor='g', alpha=0.75)\n",
    "\n",
    "\n",
    "plt.xlabel('Random Normal Number')\n",
    "plt.ylabel('Probability')\n",
    "plt.title('Histogram of Random Generated Array From Normal(1,2)',)\n",
    "plt.text(3, .2, r'$\\mu=1,\\ \\sigma=2$')\n",
    "plt.axis([-5, 7, 0, 0.25])\n",
    "plt.grid(True)\n",
    "plt.show()"
   ]
  },
  {
   "cell_type": "code",
   "execution_count": 22,
   "metadata": {},
   "outputs": [],
   "source": [
    "with tf.Session(graph=tf.Graph()) as sess1:\n",
    "    with tf.name_scope(name='Input_placeholder'):\n",
    "    #1.  Placeholder for an input array with dtype float32 and shape None\n",
    "        a = tf.placeholder(shape=None, dtype=tf.float32, name='input_a')\n",
    "        sess1.run(a,feed_dict={a:input_array})\n",
    "sess1.graph.as_graph_def()\n",
    "writer1=tf.summary.FileWriter('./hw2',graph=sess1.graph)\n",
    "writer1.close()\n",
    "sess1.close()"
   ]
  },
  {
   "cell_type": "markdown",
   "metadata": {},
   "source": [
    "![TensorBoard1](input_placeholder.png)"
   ]
  }
 ],
 "metadata": {
  "kernelspec": {
   "display_name": "Python 3",
   "language": "python",
   "name": "python3"
  },
  "language_info": {
   "codemirror_mode": {
    "name": "ipython",
    "version": 3
   },
   "file_extension": ".py",
   "mimetype": "text/x-python",
   "name": "python",
   "nbconvert_exporter": "python",
   "pygments_lexer": "ipython3",
   "version": "3.6.5"
  }
 },
 "nbformat": 4,
 "nbformat_minor": 2
}
