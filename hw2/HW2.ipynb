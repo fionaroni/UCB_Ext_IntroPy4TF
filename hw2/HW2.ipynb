{
 "cells": [
  {
   "cell_type": "code",
   "execution_count": 1,
   "metadata": {},
   "outputs": [
    {
     "name": "stdout",
     "output_type": "stream",
     "text": [
      "My name is Zhicheng (Jason) Xue\n"
     ]
    }
   ],
   "source": [
    "print('My name is Zhicheng (Jason) Xue')"
   ]
  },
  {
   "cell_type": "code",
   "execution_count": 2,
   "metadata": {},
   "outputs": [],
   "source": [
    "import tensorflow as tf\n",
    "import numpy as np\n",
    "import matplotlib.pyplot as plt\n",
    "%matplotlib inline\n",
    "import random\n",
    "random.seed(2018)"
   ]
  },
  {
   "cell_type": "code",
   "execution_count": 3,
   "metadata": {},
   "outputs": [],
   "source": [
    "graph = tf.Graph()"
   ]
  },
  {
   "cell_type": "code",
   "execution_count": 4,
   "metadata": {},
   "outputs": [],
   "source": [
    "with graph.as_default():\n",
    "    \n",
    "    #Scope for the input section \n",
    "    with tf.name_scope(name='Input_placeholder'):\n",
    "        #1.  Placeholder for an input array with dtype float32 and shape None\n",
    "        a = tf.placeholder(shape=[None], dtype=tf.float32, name='input_a')\n",
    "        \n",
    "    #Scope for the middle section \n",
    "    with tf.name_scope(name='Middle_section'):\n",
    "        \n",
    "        b = tf.reduce_prod(input_tensor=a, name='product_b')\n",
    "        c = tf.reduce_mean(input_tensor=a, name='mean_c')\n",
    "        d = tf.reduce_sum(input_tensor=a, name='sum_d')\n",
    "        e = tf.add(b,c, name='add_e')\n",
    "        \n",
    "    #Scope for the final node   \n",
    "    with tf.name_scope(name='Final_node'):\n",
    "        \n",
    "        f = tf.multiply(x=e,y=d,name='mul_f')"
   ]
  },
  {
   "cell_type": "code",
   "execution_count": 5,
   "metadata": {},
   "outputs": [],
   "source": [
    "input_array=np.random.normal(1,2,100)"
   ]
  },
  {
   "cell_type": "code",
   "execution_count": 6,
   "metadata": {},
   "outputs": [
    {
     "name": "stdout",
     "output_type": "stream",
     "text": [
      "[ 5.14194822e+00  9.02300081e-01  5.37212224e-01  1.44597191e+00\n",
      " -1.67992343e-01  1.74342169e+00 -8.96682940e-01  1.12467485e-01\n",
      "  1.09472849e+00  3.66627874e+00  2.45935885e+00  4.34486812e-01\n",
      "  1.12764394e-01 -3.11092230e+00 -9.94326543e-03  8.27505904e-01\n",
      "  4.16616676e+00 -1.26200083e-01  1.20843297e+00  3.07162457e+00\n",
      "  2.90868927e+00 -2.10340053e+00 -1.31365849e-01  1.08068594e+00\n",
      "  2.50222561e+00 -1.33919671e+00 -5.60428070e-01  3.88845729e+00\n",
      "  4.92511236e+00  2.26500684e+00  1.82483670e+00  1.03956150e+00\n",
      "  3.44011193e-02  1.70064788e+00 -1.15822495e-01  1.18528817e+00\n",
      " -1.56730295e+00  7.00420232e-01 -1.16041284e+00  2.06848570e-01\n",
      "  1.13358986e+00  8.86827288e-01  2.74720204e-01  1.04684032e-01\n",
      "  4.67678393e+00 -1.44819498e+00  2.72088115e+00  1.87179491e-01\n",
      "  1.01530732e+00  1.21497373e+00  5.46041708e-03  8.95703750e-01\n",
      "  1.75296648e+00  5.17597544e-01  3.98533088e+00  5.47411234e+00\n",
      "  5.64996713e-01  5.43893848e+00  6.66320539e-01  4.44197240e+00\n",
      " -9.95288925e-01  3.10011336e-01  2.59222157e+00  3.39884113e+00\n",
      "  6.32756098e-01  1.56951658e+00  2.30214779e-01  1.65725097e+00\n",
      "  1.45637132e+00  8.80868619e-01  2.46360212e+00  9.35582067e-01\n",
      "  2.31017668e+00  1.77288154e+00  2.99203068e+00  1.25966837e+00\n",
      "  2.11428424e+00  1.90290339e+00 -1.46250089e+00  3.01723188e+00\n",
      " -2.90289650e-01  1.55019928e+00 -2.95612725e+00  1.48466844e+00\n",
      "  2.81592767e+00  5.65349350e-01 -4.73328371e-01  4.57959368e+00\n",
      "  2.35988921e+00  1.49633619e+00  1.20638244e+00  4.13458580e+00\n",
      "  1.31725746e+00  2.58651377e+00 -6.85176965e-01  2.59488422e+00\n",
      "  4.50876761e+00 -4.88802691e+00  1.47345948e+00  4.60263709e-01]\n"
     ]
    }
   ],
   "source": [
    "print(input_array)"
   ]
  },
  {
   "cell_type": "code",
   "execution_count": 7,
   "metadata": {},
   "outputs": [],
   "source": [
    "replace_dict={a:input_array}"
   ]
  },
  {
   "cell_type": "code",
   "execution_count": 8,
   "metadata": {},
   "outputs": [],
   "source": [
    "sess=tf.Session(graph=graph)"
   ]
  },
  {
   "cell_type": "code",
   "execution_count": 9,
   "metadata": {},
   "outputs": [
    {
     "data": {
      "text/plain": [
       "91540.08"
      ]
     },
     "execution_count": 9,
     "metadata": {},
     "output_type": "execute_result"
    }
   ],
   "source": [
    "sess.run(f,feed_dict=replace_dict)"
   ]
  },
  {
   "cell_type": "code",
   "execution_count": 10,
   "metadata": {},
   "outputs": [],
   "source": [
    "writer=tf.summary.FileWriter('./hw2',graph=graph)"
   ]
  },
  {
   "cell_type": "markdown",
   "metadata": {},
   "source": [
    "![TensorBoard](HW2_TensorBoard.png)"
   ]
  },
  {
   "cell_type": "code",
   "execution_count": 11,
   "metadata": {},
   "outputs": [],
   "source": [
    "writer.close()"
   ]
  },
  {
   "cell_type": "code",
   "execution_count": 12,
   "metadata": {},
   "outputs": [],
   "source": [
    "sess.close()"
   ]
  },
  {
   "cell_type": "code",
   "execution_count": 18,
   "metadata": {},
   "outputs": [
    {
     "data": {
      "image/png": "[encoded data removed]",
      "text/plain": [
       "<Figure size 432x288 with 1 Axes>"
      ]
     },
     "metadata": {},
     "output_type": "display_data"
    }
   ],
   "source": [
    "# histogram of the input array\n",
    "n, bins, patches = plt.hist(input_array, 5, density=1, facecolor='g', alpha=0.75)\n",
    "\n",
    "\n",
    "plt.xlabel('Random Normal Number')\n",
    "plt.ylabel('Probability')\n",
    "plt.title('Histogram of Random Generated Array From Normal(1,2)',)\n",
    "plt.text(3, .2, r'$\\mu=1,\\ \\sigma=2$')\n",
    "plt.axis([-5, 7, 0, 0.25])\n",
    "plt.grid(True)\n",
    "plt.show()"
   ]
  }
 ],
 "metadata": {
  "kernelspec": {
   "display_name": "Python 3",
   "language": "python",
   "name": "python3"
  },
  "language_info": {
   "codemirror_mode": {
    "name": "ipython",
    "version": 3
   },
   "file_extension": ".py",
   "mimetype": "text/x-python",
   "name": "python",
   "nbconvert_exporter": "python",
   "pygments_lexer": "ipython3",
   "version": "3.6.5"
  }
 },
 "nbformat": 4,
 "nbformat_minor": 2
}
